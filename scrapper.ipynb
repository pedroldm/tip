{
 "cells": [
  {
   "cell_type": "code",
   "execution_count": 1,
   "metadata": {},
   "outputs": [],
   "source": [
    "import requests\n",
    "import re\n",
    "import os\n",
    "import time\n",
    "from tqdm import tqdm"
   ]
  },
  {
   "cell_type": "code",
   "execution_count": 2,
   "metadata": {},
   "outputs": [],
   "source": [
    "url = \"https://web.archive.org/web/20230924233050/\"\n",
    "pattern = r'<tr>.+?(?=href)href=\"\\.\\/([^\"]*)\">([^<]*).+?(?=\\d+<)(\\d+).+?(?=\\d+<)(\\d+).+?(?=<span)<span[^>]*>\\s*([\\d\\s\\&nbspx\\;]*).+?(?=\\d+<)(\\d+)'\n",
    "timeout = 10"
   ]
  },
  {
   "cell_type": "code",
   "execution_count": 3,
   "metadata": {},
   "outputs": [],
   "source": [
    "def get_instance(suffix: str):\n",
    "    time.sleep(timeout)\n",
    "    instance_url = f\"{url}http://kucse.in/tip/{suffix}\"\n",
    "    response = requests.get(instance_url)\n",
    "    processed_content = response.text.replace(\",\", \"\\t\")\n",
    "    return processed_content"
   ]
  },
  {
   "cell_type": "code",
   "execution_count": null,
   "metadata": {},
   "outputs": [],
   "source": [
    "def register_instance(suffix, instance, instance_name, tools, slots, solution, cost):\n",
    "    dir, name = suffix.split(\"/\")\n",
    "    name = name.replace(\".txt\", \"\")\n",
    "    \n",
    "    folder_path = f\"instances/{dir}\"\n",
    "    filename = f\"{folder_path}/{name}.txt\"\n",
    "    \n",
    "    if not os.path.exists(folder_path):\n",
    "        os.makedirs(folder_path)\n",
    "    \n",
    "    counter = 2\n",
    "    while os.path.exists(filename):\n",
    "        filename = f\"{folder_path}/{name}_{counter}.txt\"\n",
    "        counter += 1\n",
    "    \n",
    "    solution = \"\\t\".join(re.findall(r\"[\\dx]+\", solution))\n",
    "    with open(filename, 'w') as file:\n",
    "        file.write(f\"{tools}\\t{slots}\\n\")\n",
    "        file.write(f\"{solution}\\n\")\n",
    "        file.write(f\"{cost}\\n\")\n",
    "        file.write(f\"{instance}\")"
   ]
  },
  {
   "cell_type": "code",
   "execution_count": 5,
   "metadata": {},
   "outputs": [
    {
     "name": "stderr",
     "output_type": "stream",
     "text": [
      "Recovering TIP instances:   1%|          | 1/84 [00:11<15:56, 11.53s/it]"
     ]
    },
    {
     "name": "stdout",
     "output_type": "stream",
     "text": [
      "File created: instances/anjos/anjos-60-01.txt\n"
     ]
    },
    {
     "name": "stderr",
     "output_type": "stream",
     "text": [
      "Recovering TIP instances:   2%|▏         | 2/84 [00:23<16:18, 11.94s/it]"
     ]
    },
    {
     "name": "stdout",
     "output_type": "stream",
     "text": [
      "File created: instances/anjos/anjos-60-02.txt\n"
     ]
    },
    {
     "name": "stderr",
     "output_type": "stream",
     "text": [
      "Recovering TIP instances:   4%|▎         | 3/84 [00:35<15:45, 11.68s/it]"
     ]
    },
    {
     "name": "stdout",
     "output_type": "stream",
     "text": [
      "File created: instances/anjos/anjos-60-03.txt\n"
     ]
    },
    {
     "name": "stderr",
     "output_type": "stream",
     "text": [
      "Recovering TIP instances:   5%|▍         | 4/84 [00:47<15:47, 11.84s/it]"
     ]
    },
    {
     "name": "stdout",
     "output_type": "stream",
     "text": [
      "File created: instances/anjos/anjos-60-04.txt\n"
     ]
    },
    {
     "name": "stderr",
     "output_type": "stream",
     "text": [
      "Recovering TIP instances:   6%|▌         | 5/84 [00:58<15:26, 11.73s/it]"
     ]
    },
    {
     "name": "stdout",
     "output_type": "stream",
     "text": [
      "File created: instances/anjos/anjos-60-05.txt\n"
     ]
    },
    {
     "name": "stderr",
     "output_type": "stream",
     "text": [
      "Recovering TIP instances:   7%|▋         | 6/84 [01:09<15:01, 11.56s/it]"
     ]
    },
    {
     "name": "stdout",
     "output_type": "stream",
     "text": [
      "File created: instances/anjos/anjos-70-01.txt\n"
     ]
    },
    {
     "name": "stderr",
     "output_type": "stream",
     "text": [
      "Recovering TIP instances:   8%|▊         | 7/84 [01:22<15:13, 11.87s/it]"
     ]
    },
    {
     "name": "stdout",
     "output_type": "stream",
     "text": [
      "File created: instances/anjos/anjos-70-02.txt\n"
     ]
    },
    {
     "name": "stderr",
     "output_type": "stream",
     "text": [
      "Recovering TIP instances:  10%|▉         | 8/84 [01:34<15:02, 11.87s/it]"
     ]
    },
    {
     "name": "stdout",
     "output_type": "stream",
     "text": [
      "File created: instances/anjos/anjos-70-03.txt\n"
     ]
    },
    {
     "name": "stderr",
     "output_type": "stream",
     "text": [
      "Recovering TIP instances:  11%|█         | 9/84 [01:46<14:53, 11.92s/it]"
     ]
    },
    {
     "name": "stdout",
     "output_type": "stream",
     "text": [
      "File created: instances/anjos/anjos-70-04.txt\n"
     ]
    },
    {
     "name": "stderr",
     "output_type": "stream",
     "text": [
      "Recovering TIP instances:  12%|█▏        | 10/84 [01:58<14:36, 11.84s/it]"
     ]
    },
    {
     "name": "stdout",
     "output_type": "stream",
     "text": [
      "File created: instances/anjos/anjos-70-05.txt\n"
     ]
    },
    {
     "name": "stderr",
     "output_type": "stream",
     "text": [
      "Recovering TIP instances:  13%|█▎        | 11/84 [02:09<14:16, 11.73s/it]"
     ]
    },
    {
     "name": "stdout",
     "output_type": "stream",
     "text": [
      "File created: instances/anjos/anjos-75-01.txt\n"
     ]
    },
    {
     "name": "stderr",
     "output_type": "stream",
     "text": [
      "Recovering TIP instances:  14%|█▍        | 12/84 [02:22<14:23, 11.99s/it]"
     ]
    },
    {
     "name": "stdout",
     "output_type": "stream",
     "text": [
      "File created: instances/anjos/anjos-75-02.txt\n"
     ]
    },
    {
     "name": "stderr",
     "output_type": "stream",
     "text": [
      "Recovering TIP instances:  15%|█▌        | 13/84 [02:33<13:56, 11.78s/it]"
     ]
    },
    {
     "name": "stdout",
     "output_type": "stream",
     "text": [
      "File created: instances/anjos/anjos-75-03.txt\n"
     ]
    },
    {
     "name": "stderr",
     "output_type": "stream",
     "text": [
      "Recovering TIP instances:  17%|█▋        | 14/84 [02:44<13:22, 11.46s/it]"
     ]
    },
    {
     "name": "stdout",
     "output_type": "stream",
     "text": [
      "File created: instances/anjos/anjos-75-04_2.txt\n"
     ]
    },
    {
     "name": "stderr",
     "output_type": "stream",
     "text": [
      "Recovering TIP instances:  18%|█▊        | 15/84 [02:56<13:22, 11.63s/it]"
     ]
    },
    {
     "name": "stdout",
     "output_type": "stream",
     "text": [
      "File created: instances/anjos/anjos-75-05.txt\n"
     ]
    },
    {
     "name": "stderr",
     "output_type": "stream",
     "text": [
      "Recovering TIP instances:  19%|█▉        | 16/84 [03:08<13:22, 11.80s/it]"
     ]
    },
    {
     "name": "stdout",
     "output_type": "stream",
     "text": [
      "File created: instances/anjos/anjos-80-01.txt\n"
     ]
    },
    {
     "name": "stderr",
     "output_type": "stream",
     "text": [
      "Recovering TIP instances:  20%|██        | 17/84 [03:20<13:13, 11.84s/it]"
     ]
    },
    {
     "name": "stdout",
     "output_type": "stream",
     "text": [
      "File created: instances/anjos/anjos-80-02.txt\n"
     ]
    },
    {
     "name": "stderr",
     "output_type": "stream",
     "text": [
      "Recovering TIP instances:  21%|██▏       | 18/84 [03:32<13:06, 11.91s/it]"
     ]
    },
    {
     "name": "stdout",
     "output_type": "stream",
     "text": [
      "File created: instances/anjos/anjos-80-03.txt\n"
     ]
    },
    {
     "name": "stderr",
     "output_type": "stream",
     "text": [
      "Recovering TIP instances:  23%|██▎       | 19/84 [03:45<13:13, 12.20s/it]"
     ]
    },
    {
     "name": "stdout",
     "output_type": "stream",
     "text": [
      "File created: instances/anjos/anjos-80-04.txt\n"
     ]
    },
    {
     "name": "stderr",
     "output_type": "stream",
     "text": [
      "Recovering TIP instances:  24%|██▍       | 20/84 [03:57<12:59, 12.18s/it]"
     ]
    },
    {
     "name": "stdout",
     "output_type": "stream",
     "text": [
      "File created: instances/anjos/anjos-80-05.txt\n"
     ]
    },
    {
     "name": "stderr",
     "output_type": "stream",
     "text": [
      "Recovering TIP instances:  25%|██▌       | 21/84 [04:08<12:33, 11.96s/it]"
     ]
    },
    {
     "name": "stdout",
     "output_type": "stream",
     "text": [
      "File created: instances/sko/sko-36.txt\n"
     ]
    },
    {
     "name": "stderr",
     "output_type": "stream",
     "text": [
      "Recovering TIP instances:  26%|██▌       | 22/84 [04:20<12:18, 11.92s/it]"
     ]
    },
    {
     "name": "stdout",
     "output_type": "stream",
     "text": [
      "File created: instances/sko/sko-42.txt\n"
     ]
    },
    {
     "name": "stderr",
     "output_type": "stream",
     "text": [
      "Recovering TIP instances:  27%|██▋       | 23/84 [04:33<12:21, 12.16s/it]"
     ]
    },
    {
     "name": "stdout",
     "output_type": "stream",
     "text": [
      "File created: instances/sko/sko-49.txt\n"
     ]
    },
    {
     "name": "stderr",
     "output_type": "stream",
     "text": [
      "Recovering TIP instances:  29%|██▊       | 24/84 [04:45<12:01, 12.02s/it]"
     ]
    },
    {
     "name": "stdout",
     "output_type": "stream",
     "text": [
      "File created: instances/sko/sko-56.txt\n"
     ]
    },
    {
     "name": "stderr",
     "output_type": "stream",
     "text": [
      "Recovering TIP instances:  30%|██▉       | 25/84 [04:56<11:41, 11.90s/it]"
     ]
    },
    {
     "name": "stdout",
     "output_type": "stream",
     "text": [
      "File created: instances/sko/sko-64.txt\n"
     ]
    },
    {
     "name": "stderr",
     "output_type": "stream",
     "text": [
      "Recovering TIP instances:  31%|███       | 26/84 [05:09<11:53, 12.30s/it]"
     ]
    },
    {
     "name": "stdout",
     "output_type": "stream",
     "text": [
      "File created: instances/sko/sko-72.txt\n"
     ]
    },
    {
     "name": "stderr",
     "output_type": "stream",
     "text": [
      "Recovering TIP instances:  32%|███▏      | 27/84 [05:21<11:31, 12.13s/it]"
     ]
    },
    {
     "name": "stdout",
     "output_type": "stream",
     "text": [
      "File created: instances/sko/sko-81.txt\n"
     ]
    },
    {
     "name": "stderr",
     "output_type": "stream",
     "text": [
      "Recovering TIP instances:  33%|███▎      | 28/84 [05:33<11:15, 12.06s/it]"
     ]
    },
    {
     "name": "stdout",
     "output_type": "stream",
     "text": [
      "File created: instances/sko/sko-100.txt\n"
     ]
    },
    {
     "name": "stderr",
     "output_type": "stream",
     "text": [
      "Recovering TIP instances:  35%|███▍      | 29/84 [05:44<10:53, 11.87s/it]"
     ]
    },
    {
     "name": "stdout",
     "output_type": "stream",
     "text": [
      "File created: instances/o/o-5_t.txt\n"
     ]
    },
    {
     "name": "stderr",
     "output_type": "stream",
     "text": [
      "Recovering TIP instances:  36%|███▌      | 30/84 [05:55<10:22, 11.53s/it]"
     ]
    },
    {
     "name": "stdout",
     "output_type": "stream",
     "text": [
      "File created: instances/o/o-5_t_2.txt\n"
     ]
    },
    {
     "name": "stderr",
     "output_type": "stream",
     "text": [
      "Recovering TIP instances:  37%|███▋      | 31/84 [06:07<10:14, 11.59s/it]"
     ]
    },
    {
     "name": "stdout",
     "output_type": "stream",
     "text": [
      "File created: instances/o/o-6_t.txt\n"
     ]
    },
    {
     "name": "stderr",
     "output_type": "stream",
     "text": [
      "Recovering TIP instances:  38%|███▊      | 32/84 [06:19<10:05, 11.64s/it]"
     ]
    },
    {
     "name": "stdout",
     "output_type": "stream",
     "text": [
      "File created: instances/o/o-7_t.txt\n"
     ]
    },
    {
     "name": "stderr",
     "output_type": "stream",
     "text": [
      "Recovering TIP instances:  39%|███▉      | 33/84 [06:30<09:52, 11.61s/it]"
     ]
    },
    {
     "name": "stdout",
     "output_type": "stream",
     "text": [
      "File created: instances/o/o-8_t.txt\n"
     ]
    },
    {
     "name": "stderr",
     "output_type": "stream",
     "text": [
      "Recovering TIP instances:  40%|████      | 34/84 [06:42<09:40, 11.62s/it]"
     ]
    },
    {
     "name": "stdout",
     "output_type": "stream",
     "text": [
      "File created: instances/o/o-9_t.txt\n"
     ]
    },
    {
     "name": "stderr",
     "output_type": "stream",
     "text": [
      "Recovering TIP instances:  42%|████▏     | 35/84 [06:53<09:27, 11.59s/it]"
     ]
    },
    {
     "name": "stdout",
     "output_type": "stream",
     "text": [
      "File created: instances/o/o-10_t.txt\n"
     ]
    },
    {
     "name": "stderr",
     "output_type": "stream",
     "text": [
      "Recovering TIP instances:  43%|████▎     | 36/84 [07:04<09:03, 11.32s/it]"
     ]
    },
    {
     "name": "stdout",
     "output_type": "stream",
     "text": [
      "File created: instances/o/o-10_t_2.txt\n"
     ]
    },
    {
     "name": "stderr",
     "output_type": "stream",
     "text": [
      "Recovering TIP instances:  44%|████▍     | 37/84 [07:18<09:27, 12.07s/it]"
     ]
    },
    {
     "name": "stdout",
     "output_type": "stream",
     "text": [
      "File created: instances/o/o-10_t_3.txt\n"
     ]
    },
    {
     "name": "stderr",
     "output_type": "stream",
     "text": [
      "Recovering TIP instances:  45%|████▌     | 38/84 [07:29<08:56, 11.67s/it]"
     ]
    },
    {
     "name": "stdout",
     "output_type": "stream",
     "text": [
      "File created: instances/o/o-10_t_4.txt\n"
     ]
    },
    {
     "name": "stderr",
     "output_type": "stream",
     "text": [
      "Recovering TIP instances:  46%|████▋     | 39/84 [07:39<08:32, 11.38s/it]"
     ]
    },
    {
     "name": "stdout",
     "output_type": "stream",
     "text": [
      "File created: instances/o/o-10_t_5.txt\n"
     ]
    },
    {
     "name": "stderr",
     "output_type": "stream",
     "text": [
      "Recovering TIP instances:  48%|████▊     | 40/84 [07:50<08:11, 11.18s/it]"
     ]
    },
    {
     "name": "stdout",
     "output_type": "stream",
     "text": [
      "File created: instances/o/o-10_t_6.txt\n"
     ]
    },
    {
     "name": "stderr",
     "output_type": "stream",
     "text": [
      "Recovering TIP instances:  49%|████▉     | 41/84 [08:03<08:18, 11.59s/it]"
     ]
    },
    {
     "name": "stdout",
     "output_type": "stream",
     "text": [
      "File created: instances/o/o-15_t.txt\n"
     ]
    },
    {
     "name": "stderr",
     "output_type": "stream",
     "text": [
      "Recovering TIP instances:  50%|█████     | 42/84 [08:13<07:55, 11.32s/it]"
     ]
    },
    {
     "name": "stdout",
     "output_type": "stream",
     "text": [
      "File created: instances/o/o-15_t_2.txt\n"
     ]
    },
    {
     "name": "stderr",
     "output_type": "stream",
     "text": [
      "Recovering TIP instances:  51%|█████     | 43/84 [08:29<08:36, 12.59s/it]"
     ]
    },
    {
     "name": "stdout",
     "output_type": "stream",
     "text": [
      "File created: instances/o/o-20_t.txt\n"
     ]
    },
    {
     "name": "stderr",
     "output_type": "stream",
     "text": [
      "Recovering TIP instances:  52%|█████▏    | 44/84 [08:40<08:11, 12.29s/it]"
     ]
    },
    {
     "name": "stdout",
     "output_type": "stream",
     "text": [
      "File created: instances/s/s-12_t.txt\n"
     ]
    },
    {
     "name": "stderr",
     "output_type": "stream",
     "text": [
      "Recovering TIP instances:  54%|█████▎    | 45/84 [08:52<07:55, 12.19s/it]"
     ]
    },
    {
     "name": "stdout",
     "output_type": "stream",
     "text": [
      "File created: instances/s/s-13_t.txt\n"
     ]
    },
    {
     "name": "stderr",
     "output_type": "stream",
     "text": [
      "Recovering TIP instances:  55%|█████▍    | 46/84 [09:03<07:26, 11.75s/it]"
     ]
    },
    {
     "name": "stdout",
     "output_type": "stream",
     "text": [
      "File created: instances/s/s-13_t_2.txt\n"
     ]
    },
    {
     "name": "stderr",
     "output_type": "stream",
     "text": [
      "Recovering TIP instances:  56%|█████▌    | 47/84 [09:25<09:06, 14.78s/it]"
     ]
    },
    {
     "name": "stdout",
     "output_type": "stream",
     "text": [
      "File created: instances/s/s-14_t.txt\n"
     ]
    },
    {
     "name": "stderr",
     "output_type": "stream",
     "text": [
      "Recovering TIP instances:  57%|█████▋    | 48/84 [09:40<08:49, 14.71s/it]"
     ]
    },
    {
     "name": "stdout",
     "output_type": "stream",
     "text": [
      "File created: instances/s/s-15_t.txt\n"
     ]
    },
    {
     "name": "stderr",
     "output_type": "stream",
     "text": [
      "Recovering TIP instances:  58%|█████▊    | 49/84 [09:51<08:02, 13.79s/it]"
     ]
    },
    {
     "name": "stdout",
     "output_type": "stream",
     "text": [
      "File created: instances/s/s-16_t.txt\n"
     ]
    },
    {
     "name": "stderr",
     "output_type": "stream",
     "text": [
      "Recovering TIP instances:  60%|█████▉    | 50/84 [10:03<07:31, 13.27s/it]"
     ]
    },
    {
     "name": "stdout",
     "output_type": "stream",
     "text": [
      "File created: instances/s/s-17_t.txt\n"
     ]
    },
    {
     "name": "stderr",
     "output_type": "stream",
     "text": [
      "Recovering TIP instances:  61%|██████    | 51/84 [10:15<07:02, 12.79s/it]"
     ]
    },
    {
     "name": "stdout",
     "output_type": "stream",
     "text": [
      "File created: instances/s/s-18_t.txt\n"
     ]
    },
    {
     "name": "stderr",
     "output_type": "stream",
     "text": [
      "Recovering TIP instances:  62%|██████▏   | 52/84 [10:27<06:44, 12.65s/it]"
     ]
    },
    {
     "name": "stdout",
     "output_type": "stream",
     "text": [
      "File created: instances/s/s-19_t.txt\n"
     ]
    },
    {
     "name": "stderr",
     "output_type": "stream",
     "text": [
      "Recovering TIP instances:  63%|██████▎   | 53/84 [10:40<06:37, 12.81s/it]"
     ]
    },
    {
     "name": "stdout",
     "output_type": "stream",
     "text": [
      "File created: instances/s/s-20_t.txt\n"
     ]
    },
    {
     "name": "stderr",
     "output_type": "stream",
     "text": [
      "Recovering TIP instances:  64%|██████▍   | 54/84 [10:52<06:15, 12.52s/it]"
     ]
    },
    {
     "name": "stdout",
     "output_type": "stream",
     "text": [
      "File created: instances/s/s-21_t.txt\n"
     ]
    },
    {
     "name": "stderr",
     "output_type": "stream",
     "text": [
      "Recovering TIP instances:  65%|██████▌   | 55/84 [11:04<05:58, 12.38s/it]"
     ]
    },
    {
     "name": "stdout",
     "output_type": "stream",
     "text": [
      "File created: instances/s/s-22_t.txt\n"
     ]
    },
    {
     "name": "stderr",
     "output_type": "stream",
     "text": [
      "Recovering TIP instances:  67%|██████▋   | 56/84 [11:16<05:44, 12.29s/it]"
     ]
    },
    {
     "name": "stdout",
     "output_type": "stream",
     "text": [
      "File created: instances/s/s-23_t.txt\n"
     ]
    },
    {
     "name": "stderr",
     "output_type": "stream",
     "text": [
      "Recovering TIP instances:  68%|██████▊   | 57/84 [11:28<05:26, 12.10s/it]"
     ]
    },
    {
     "name": "stdout",
     "output_type": "stream",
     "text": [
      "File created: instances/s/s-24_t.txt\n"
     ]
    },
    {
     "name": "stderr",
     "output_type": "stream",
     "text": [
      "Recovering TIP instances:  69%|██████▉   | 58/84 [11:40<05:15, 12.15s/it]"
     ]
    },
    {
     "name": "stdout",
     "output_type": "stream",
     "text": [
      "File created: instances/s/s-25_t.txt\n"
     ]
    },
    {
     "name": "stderr",
     "output_type": "stream",
     "text": [
      "Recovering TIP instances:  70%|███████   | 59/84 [11:53<05:06, 12.28s/it]"
     ]
    },
    {
     "name": "stdout",
     "output_type": "stream",
     "text": [
      "File created: instances/y/y-6_t.txt\n"
     ]
    },
    {
     "name": "stderr",
     "output_type": "stream",
     "text": [
      "Recovering TIP instances:  71%|███████▏  | 60/84 [12:04<04:43, 11.81s/it]"
     ]
    },
    {
     "name": "stdout",
     "output_type": "stream",
     "text": [
      "File created: instances/y/y-6_t_2.txt\n"
     ]
    },
    {
     "name": "stderr",
     "output_type": "stream",
     "text": [
      "Recovering TIP instances:  73%|███████▎  | 61/84 [12:15<04:29, 11.74s/it]"
     ]
    },
    {
     "name": "stdout",
     "output_type": "stream",
     "text": [
      "File created: instances/y/y-7_t.txt\n"
     ]
    },
    {
     "name": "stderr",
     "output_type": "stream",
     "text": [
      "Recovering TIP instances:  74%|███████▍  | 62/84 [12:27<04:16, 11.66s/it]"
     ]
    },
    {
     "name": "stdout",
     "output_type": "stream",
     "text": [
      "File created: instances/y/y-8_t.txt\n"
     ]
    },
    {
     "name": "stderr",
     "output_type": "stream",
     "text": [
      "Recovering TIP instances:  75%|███████▌  | 63/84 [12:39<04:07, 11.78s/it]"
     ]
    },
    {
     "name": "stdout",
     "output_type": "stream",
     "text": [
      "File created: instances/y/y-9_t.txt\n"
     ]
    },
    {
     "name": "stderr",
     "output_type": "stream",
     "text": [
      "Recovering TIP instances:  76%|███████▌  | 64/84 [12:50<03:53, 11.66s/it]"
     ]
    },
    {
     "name": "stdout",
     "output_type": "stream",
     "text": [
      "File created: instances/y/y-10_t.txt\n"
     ]
    },
    {
     "name": "stderr",
     "output_type": "stream",
     "text": [
      "Recovering TIP instances:  77%|███████▋  | 65/84 [13:01<03:36, 11.38s/it]"
     ]
    },
    {
     "name": "stdout",
     "output_type": "stream",
     "text": [
      "File created: instances/y/y-10_t_2.txt\n"
     ]
    },
    {
     "name": "stderr",
     "output_type": "stream",
     "text": [
      "Recovering TIP instances:  79%|███████▊  | 66/84 [13:12<03:25, 11.44s/it]"
     ]
    },
    {
     "name": "stdout",
     "output_type": "stream",
     "text": [
      "File created: instances/y/y-11_t.txt\n"
     ]
    },
    {
     "name": "stderr",
     "output_type": "stream",
     "text": [
      "Recovering TIP instances:  80%|███████▉  | 67/84 [13:23<03:10, 11.22s/it]"
     ]
    },
    {
     "name": "stdout",
     "output_type": "stream",
     "text": [
      "File created: instances/y/y-11_t_2.txt\n"
     ]
    },
    {
     "name": "stderr",
     "output_type": "stream",
     "text": [
      "Recovering TIP instances:  81%|████████  | 68/84 [13:34<02:57, 11.07s/it]"
     ]
    },
    {
     "name": "stdout",
     "output_type": "stream",
     "text": [
      "File created: instances/y/y-11_t_3.txt\n"
     ]
    },
    {
     "name": "stderr",
     "output_type": "stream",
     "text": [
      "Recovering TIP instances:  82%|████████▏ | 69/84 [13:45<02:47, 11.15s/it]"
     ]
    },
    {
     "name": "stdout",
     "output_type": "stream",
     "text": [
      "File created: instances/y/y-12_t.txt\n"
     ]
    },
    {
     "name": "stderr",
     "output_type": "stream",
     "text": [
      "Recovering TIP instances:  83%|████████▎ | 70/84 [13:56<02:34, 11.02s/it]"
     ]
    },
    {
     "name": "stdout",
     "output_type": "stream",
     "text": [
      "File created: instances/y/y-12_t_2.txt\n"
     ]
    },
    {
     "name": "stderr",
     "output_type": "stream",
     "text": [
      "Recovering TIP instances:  85%|████████▍ | 71/84 [14:08<02:28, 11.40s/it]"
     ]
    },
    {
     "name": "stdout",
     "output_type": "stream",
     "text": [
      "File created: instances/y/y-13_t.txt\n"
     ]
    },
    {
     "name": "stderr",
     "output_type": "stream",
     "text": [
      "Recovering TIP instances:  86%|████████▌ | 72/84 [14:19<02:14, 11.19s/it]"
     ]
    },
    {
     "name": "stdout",
     "output_type": "stream",
     "text": [
      "File created: instances/y/y-13_t_2.txt\n"
     ]
    },
    {
     "name": "stderr",
     "output_type": "stream",
     "text": [
      "Recovering TIP instances:  87%|████████▋ | 73/84 [14:31<02:07, 11.59s/it]"
     ]
    },
    {
     "name": "stdout",
     "output_type": "stream",
     "text": [
      "File created: instances/y/y-14_t.txt\n"
     ]
    },
    {
     "name": "stderr",
     "output_type": "stream",
     "text": [
      "Recovering TIP instances:  88%|████████▊ | 74/84 [14:42<01:53, 11.32s/it]"
     ]
    },
    {
     "name": "stdout",
     "output_type": "stream",
     "text": [
      "File created: instances/y/y-14_t_2.txt\n"
     ]
    },
    {
     "name": "stderr",
     "output_type": "stream",
     "text": [
      "Recovering TIP instances:  89%|████████▉ | 75/84 [14:54<01:43, 11.48s/it]"
     ]
    },
    {
     "name": "stdout",
     "output_type": "stream",
     "text": [
      "File created: instances/y/y-15_t.txt\n"
     ]
    },
    {
     "name": "stderr",
     "output_type": "stream",
     "text": [
      "Recovering TIP instances:  90%|█████████ | 76/84 [15:05<01:29, 11.25s/it]"
     ]
    },
    {
     "name": "stdout",
     "output_type": "stream",
     "text": [
      "File created: instances/y/y-15_t_2.txt\n"
     ]
    },
    {
     "name": "stderr",
     "output_type": "stream",
     "text": [
      "Recovering TIP instances:  92%|█████████▏| 77/84 [15:16<01:19, 11.42s/it]"
     ]
    },
    {
     "name": "stdout",
     "output_type": "stream",
     "text": [
      "File created: instances/y/y-20_t.txt\n"
     ]
    },
    {
     "name": "stderr",
     "output_type": "stream",
     "text": [
      "Recovering TIP instances:  93%|█████████▎| 78/84 [15:29<01:11, 11.84s/it]"
     ]
    },
    {
     "name": "stdout",
     "output_type": "stream",
     "text": [
      "File created: instances/y/y-25_t.txt\n"
     ]
    },
    {
     "name": "stderr",
     "output_type": "stream",
     "text": [
      "Recovering TIP instances:  94%|█████████▍| 79/84 [15:41<00:58, 11.75s/it]"
     ]
    },
    {
     "name": "stdout",
     "output_type": "stream",
     "text": [
      "File created: instances/y/y-30_t.txt\n"
     ]
    },
    {
     "name": "stderr",
     "output_type": "stream",
     "text": [
      "Recovering TIP instances:  95%|█████████▌| 80/84 [15:54<00:48, 12.07s/it]"
     ]
    },
    {
     "name": "stdout",
     "output_type": "stream",
     "text": [
      "File created: instances/y/y-35_t.txt\n"
     ]
    },
    {
     "name": "stderr",
     "output_type": "stream",
     "text": [
      "Recovering TIP instances:  96%|█████████▋| 81/84 [16:06<00:36, 12.11s/it]"
     ]
    },
    {
     "name": "stdout",
     "output_type": "stream",
     "text": [
      "File created: instances/y/y-40_t.txt\n"
     ]
    },
    {
     "name": "stderr",
     "output_type": "stream",
     "text": [
      "Recovering TIP instances:  98%|█████████▊| 82/84 [16:18<00:24, 12.16s/it]"
     ]
    },
    {
     "name": "stdout",
     "output_type": "stream",
     "text": [
      "File created: instances/y/y-45_t.txt\n"
     ]
    },
    {
     "name": "stderr",
     "output_type": "stream",
     "text": [
      "Recovering TIP instances:  99%|█████████▉| 83/84 [16:32<00:12, 12.71s/it]"
     ]
    },
    {
     "name": "stdout",
     "output_type": "stream",
     "text": [
      "File created: instances/y/y-50_t.txt\n"
     ]
    },
    {
     "name": "stderr",
     "output_type": "stream",
     "text": [
      "Recovering TIP instances: 100%|██████████| 84/84 [16:44<00:00, 11.96s/it]"
     ]
    },
    {
     "name": "stdout",
     "output_type": "stream",
     "text": [
      "File created: instances/y/y-60_t.txt\n"
     ]
    },
    {
     "name": "stderr",
     "output_type": "stream",
     "text": [
      "\n"
     ]
    }
   ],
   "source": [
    "response = requests.get(f\"{url}http://kucse.in/tip/\")\n",
    "\n",
    "matches = re.findall(pattern, response.text, re.DOTALL)\n",
    "\n",
    "for m in tqdm(matches, desc=\"Recovering TIP instances\", total=len(matches)):\n",
    "    suffix, instance_name, tools, slots, solution, cost = m\n",
    "    instance = get_instance(suffix)\n",
    "    register_instance(suffix, instance, instance_name, tools, slots, solution, cost)"
   ]
  }
 ],
 "metadata": {
  "kernelspec": {
   "display_name": "venv",
   "language": "python",
   "name": "python3"
  },
  "language_info": {
   "codemirror_mode": {
    "name": "ipython",
    "version": 3
   },
   "file_extension": ".py",
   "mimetype": "text/x-python",
   "name": "python",
   "nbconvert_exporter": "python",
   "pygments_lexer": "ipython3",
   "version": "3.12.3"
  }
 },
 "nbformat": 4,
 "nbformat_minor": 2
}
