{
 "cells": [
  {
   "cell_type": "code",
   "execution_count": 14,
   "metadata": {},
   "outputs": [],
   "source": [
    "import os"
   ]
  },
  {
   "cell_type": "code",
   "execution_count": 15,
   "metadata": {},
   "outputs": [],
   "source": [
    "def has_isolated_tool(char_list):\n",
    "    for i in range(1, len(char_list) - 1):\n",
    "        if char_list[i-1] == 'x' and char_list[i+1] == 'x' and char_list[i].isdigit():\n",
    "            return True\n",
    "    return False"
   ]
  },
  {
   "cell_type": "code",
   "execution_count": 16,
   "metadata": {},
   "outputs": [],
   "source": [
    "solutions = []\n",
    "main_dir = \"/home/pedro/Pessoal/MSc/tip/instances\"\n",
    "for root, dirs, files in os.walk(main_dir):\n",
    "    if root != main_dir:\n",
    "        txt_files = [f for f in files if f.endswith(\".txt\")]\n",
    "        for file in txt_files:\n",
    "            file_path = os.path.join(root, file)\n",
    "            with open(file_path, 'r', encoding='utf-8') as f:\n",
    "                lines = f.readlines()\n",
    "                second_line = [c for c in lines[1].strip() if c != '\\t']\n",
    "                solutions.append(second_line)"
   ]
  },
  {
   "cell_type": "code",
   "execution_count": 17,
   "metadata": {},
   "outputs": [
    {
     "name": "stdout",
     "output_type": "stream",
     "text": [
      "Solução 0: ❌ não tem ferramentas isoladas\n",
      "Solução 1: ❌ não tem ferramentas isoladas\n",
      "Solução 2: ❌ não tem ferramentas isoladas\n",
      "Solução 3: ❌ não tem ferramentas isoladas\n",
      "Solução 4: ❌ não tem ferramentas isoladas\n",
      "Solução 5: ❌ não tem ferramentas isoladas\n",
      "Solução 6: ❌ não tem ferramentas isoladas\n",
      "Solução 7: ❌ não tem ferramentas isoladas\n",
      "Solução 8: ❌ não tem ferramentas isoladas\n",
      "Solução 9: ❌ não tem ferramentas isoladas\n",
      "Solução 10: ❌ não tem ferramentas isoladas\n",
      "Solução 11: ❌ não tem ferramentas isoladas\n",
      "Solução 12: ❌ não tem ferramentas isoladas\n",
      "Solução 13: ❌ não tem ferramentas isoladas\n",
      "Solução 14: ❌ não tem ferramentas isoladas\n",
      "Solução 15: ❌ não tem ferramentas isoladas\n",
      "Solução 16: ❌ não tem ferramentas isoladas\n",
      "Solução 17: ❌ não tem ferramentas isoladas\n",
      "Solução 18: ❌ não tem ferramentas isoladas\n",
      "Solução 19: ❌ não tem ferramentas isoladas\n",
      "Solução 20: ❌ não tem ferramentas isoladas\n",
      "Solução 21: ❌ não tem ferramentas isoladas\n",
      "Solução 22: ❌ não tem ferramentas isoladas\n",
      "Solução 23: ❌ não tem ferramentas isoladas\n",
      "Solução 24: ❌ não tem ferramentas isoladas\n",
      "Solução 25: ❌ não tem ferramentas isoladas\n",
      "Solução 26: ❌ não tem ferramentas isoladas\n",
      "Solução 27: ❌ não tem ferramentas isoladas\n",
      "Solução 28: ❌ não tem ferramentas isoladas\n",
      "Solução 29: ❌ não tem ferramentas isoladas\n",
      "Solução 30: ❌ não tem ferramentas isoladas\n",
      "Solução 31: ❌ não tem ferramentas isoladas\n",
      "Solução 32: ❌ não tem ferramentas isoladas\n",
      "Solução 33: ❌ não tem ferramentas isoladas\n",
      "Solução 34: ❌ não tem ferramentas isoladas\n",
      "Solução 35: ❌ não tem ferramentas isoladas\n",
      "Solução 36: ❌ não tem ferramentas isoladas\n",
      "Solução 37: ❌ não tem ferramentas isoladas\n",
      "Solução 38: ❌ não tem ferramentas isoladas\n",
      "Solução 39: ❌ não tem ferramentas isoladas\n",
      "Solução 40: ❌ não tem ferramentas isoladas\n",
      "Solução 41: ❌ não tem ferramentas isoladas\n",
      "Solução 42: ❌ não tem ferramentas isoladas\n",
      "Solução 43: ❌ não tem ferramentas isoladas\n",
      "Solução 44: ❌ não tem ferramentas isoladas\n",
      "Solução 45: ❌ não tem ferramentas isoladas\n",
      "Solução 46: ❌ não tem ferramentas isoladas\n",
      "Solução 47: ❌ não tem ferramentas isoladas\n",
      "Solução 48: ❌ não tem ferramentas isoladas\n",
      "Solução 49: ❌ não tem ferramentas isoladas\n",
      "Solução 50: ❌ não tem ferramentas isoladas\n",
      "Solução 51: ❌ não tem ferramentas isoladas\n",
      "Solução 52: ❌ não tem ferramentas isoladas\n",
      "Solução 53: ❌ não tem ferramentas isoladas\n",
      "Solução 54: ❌ não tem ferramentas isoladas\n",
      "Solução 55: ❌ não tem ferramentas isoladas\n",
      "Solução 56: ❌ não tem ferramentas isoladas\n",
      "Solução 57: ❌ não tem ferramentas isoladas\n",
      "Solução 58: ❌ não tem ferramentas isoladas\n",
      "Solução 59: ❌ não tem ferramentas isoladas\n",
      "Solução 60: ❌ não tem ferramentas isoladas\n",
      "Solução 61: ❌ não tem ferramentas isoladas\n",
      "Solução 62: ❌ não tem ferramentas isoladas\n",
      "Solução 63: ❌ não tem ferramentas isoladas\n",
      "Solução 64: ❌ não tem ferramentas isoladas\n",
      "Solução 65: ❌ não tem ferramentas isoladas\n",
      "Solução 66: ❌ não tem ferramentas isoladas\n",
      "Solução 67: ❌ não tem ferramentas isoladas\n",
      "Solução 68: ❌ não tem ferramentas isoladas\n",
      "Solução 69: ❌ não tem ferramentas isoladas\n",
      "Solução 70: ❌ não tem ferramentas isoladas\n",
      "Solução 71: ❌ não tem ferramentas isoladas\n",
      "Solução 72: ❌ não tem ferramentas isoladas\n",
      "Solução 73: ❌ não tem ferramentas isoladas\n",
      "Solução 74: ❌ não tem ferramentas isoladas\n",
      "Solução 75: ❌ não tem ferramentas isoladas\n",
      "Solução 76: ❌ não tem ferramentas isoladas\n",
      "Solução 77: ❌ não tem ferramentas isoladas\n",
      "Solução 78: ❌ não tem ferramentas isoladas\n",
      "Solução 79: ❌ não tem ferramentas isoladas\n",
      "Solução 80: ❌ não tem ferramentas isoladas\n",
      "Solução 81: ❌ não tem ferramentas isoladas\n",
      "Solução 82: ❌ não tem ferramentas isoladas\n",
      "Solução 83: ❌ não tem ferramentas isoladas\n",
      "Solução 84: ❌ não tem ferramentas isoladas\n"
     ]
    }
   ],
   "source": [
    "for idx, char_list in enumerate(solutions):\n",
    "    result = has_isolated_tool(char_list)\n",
    "    print(f\"Solução {idx}: {'✅ tem ferramentas isoladas' if result else '❌ não tem ferramentas isoladas'}\")"
   ]
  }
 ],
 "metadata": {
  "kernelspec": {
   "display_name": "Python 3",
   "language": "python",
   "name": "python3"
  },
  "language_info": {
   "codemirror_mode": {
    "name": "ipython",
    "version": 3
   },
   "file_extension": ".py",
   "mimetype": "text/x-python",
   "name": "python",
   "nbconvert_exporter": "python",
   "pygments_lexer": "ipython3",
   "version": "3.12.3"
  }
 },
 "nbformat": 4,
 "nbformat_minor": 2
}
